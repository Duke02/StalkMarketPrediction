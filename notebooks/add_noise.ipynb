{
 "cells": [
  {
   "cell_type": "code",
   "execution_count": 1,
   "metadata": {
    "collapsed": true
   },
   "outputs": [],
   "source": [
    "import pandas as pd\n",
    "import numpy as np"
   ]
  },
  {
   "cell_type": "code",
   "execution_count": 3,
   "outputs": [],
   "source": [
    "original_data = np.array([[1, 2], [3, 4]])"
   ],
   "metadata": {
    "collapsed": false,
    "pycharm": {
     "name": "#%%\n"
    }
   }
  },
  {
   "cell_type": "code",
   "execution_count": 28,
   "outputs": [],
   "source": [
    "N: int = 5\n",
    "output = original_data"
   ],
   "metadata": {
    "collapsed": false,
    "pycharm": {
     "name": "#%%\n"
    }
   }
  },
  {
   "cell_type": "code",
   "execution_count": 29,
   "outputs": [
    {
     "data": {
      "text/plain": "array([[1, 2],\n       [3, 4]])"
     },
     "execution_count": 29,
     "metadata": {},
     "output_type": "execute_result"
    }
   ],
   "source": [
    "output\n"
   ],
   "metadata": {
    "collapsed": false,
    "pycharm": {
     "name": "#%%\n"
    }
   }
  },
  {
   "cell_type": "code",
   "execution_count": 32,
   "outputs": [
    {
     "data": {
      "text/plain": "array([[1.        , 2.        ],\n       [3.        , 4.        ],\n       [1.06797509, 2.30148855],\n       [3.76340547, 4.77087162],\n       [1.49740858, 2.40331547],\n       [3.95192084, 4.26130516],\n       [1.13297456, 2.81328129],\n       [3.45021347, 4.03221647],\n       [1.23614669, 2.90921298],\n       [3.6156738 , 4.26357994],\n       [1.75040325, 2.369923  ],\n       [3.72059521, 4.20977357],\n       [1.9371161 , 2.33271962],\n       [3.5941475 , 4.07700815],\n       [0.99092   , 1.62331826],\n       [2.65370023, 3.3220575 ],\n       [1.72560921, 2.64689634],\n       [3.41082887, 4.71898033],\n       [0.1906002 , 1.89105001],\n       [2.49927717, 3.78702226],\n       [1.7175308 , 2.57952101],\n       [3.91576788, 4.53626919]])"
     },
     "execution_count": 32,
     "metadata": {},
     "output_type": "execute_result"
    }
   ],
   "source": [
    "for i in range(N):\n",
    "    multiplier: float = 1 if i % 2 == 0 else -1\n",
    "    output = np.vstack((output, original_data + multiplier * np.random.random(original_data.shape)))\n",
    "output"
   ],
   "metadata": {
    "collapsed": false,
    "pycharm": {
     "name": "#%%\n"
    }
   }
  },
  {
   "cell_type": "code",
   "execution_count": null,
   "outputs": [],
   "source": [
    "\n"
   ],
   "metadata": {
    "collapsed": false,
    "pycharm": {
     "name": "#%%\n"
    }
   }
  }
 ],
 "metadata": {
  "kernelspec": {
   "display_name": "Python 3",
   "language": "python",
   "name": "python3"
  },
  "language_info": {
   "codemirror_mode": {
    "name": "ipython",
    "version": 2
   },
   "file_extension": ".py",
   "mimetype": "text/x-python",
   "name": "python",
   "nbconvert_exporter": "python",
   "pygments_lexer": "ipython2",
   "version": "2.7.6"
  }
 },
 "nbformat": 4,
 "nbformat_minor": 0
}